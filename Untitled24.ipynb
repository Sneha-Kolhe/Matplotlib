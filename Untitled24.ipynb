{
 "cells": [
  {
   "cell_type": "markdown",
   "id": "de7f6a57-dada-4f9a-b32a-26d0e9c722d4",
   "metadata": {},
   "source": [
    "## Q1: What is Matplotlib? Why is it used? Name five plots that can be plotted using the Pyplot module of\n",
    "Matplotlib."
   ]
  },
  {
   "cell_type": "code",
   "execution_count": null,
   "id": "831bb320-8118-47df-8a83-d89cd6686660",
   "metadata": {},
   "outputs": [],
   "source": [
    "Matplotlib is a comprehensive library for creating static, animated, and interactive visualizations in Python. It is widely used for generating plots, histograms, power spectra, bar charts, error charts, scatterplots, and more. Matplotlib is highly customizable and allows users to create publication-quality figures with ease.\n",
    "\n",
    "Here are five plots that can be created using the Pyplot module of Matplotlib:\n",
    "\n",
    "Line Plot: Used to visualize data points as markers connected by straight lines.\n",
    "Scatter Plot: Used to display the relationship between two numerical variables by plotting points on a Cartesian plane.\n",
    "Histogram: Used to represent the distribution of a continuous variable by dividing the data into bins and displaying the frequency of each bin.\n",
    "Bar Plot: Used to compare categorical data by displaying rectangular bars with heights or lengths proportional to the values they represent.\n",
    "Pie Chart: Used to represent data as slices of a circular pie, where each slice's size is proportional to the quantity it represents.\n",
    "These are just a few examples of the types of plots that can be created using Matplotlib's Pyplot module. It offers many more functionalities for creating various types of visualizations to suit different data analysis needs."
   ]
  },
  {
   "cell_type": "markdown",
   "id": "90e9369b-e84d-4445-ac7c-593b0bc1844a",
   "metadata": {},
   "source": [
    "## Q2: What is a box plot? Why is it used? Using the following data plot a box plot.\n",
    "box1 = np.random.normal(100, 10, 200)\n",
    "box2 = np.random.normal(90, 20, 200)"
   ]
  },
  {
   "cell_type": "code",
   "execution_count": null,
   "id": "143534d6-8068-4265-a533-fc7823206970",
   "metadata": {},
   "outputs": [],
   "source": [
    "Summary of Data Distribution: Box plots provide a concise summary of the distribution of the data, including the central tendency (median) and spread (interquartile range).\n",
    "Identification of Outliers: Box plots help identify outliers in the dataset, which are data points that fall significantly above or below the bulk of the data.\n",
    "Comparison between Groups: Box plots are particularly useful for comparing the distribution of data between different groups or categories.\n",
    "Now, let's create a box plot using the provided data:\n",
    "\n",
    "\n",
    "import numpy as np\n",
    "import matplotlib.pyplot as plt\n",
    "\n",
    "# Generate data\n",
    "box1 = np.random.normal(100, 10, 200)\n",
    "box2 = np.random.normal(90, 20, 200)\n",
    "\n",
    "# Combine data into a list\n",
    "data = [box1, box2]\n",
    "\n",
    "# Create a box plot\n",
    "plt.boxplot(data)\n",
    "\n",
    "# Add labels\n",
    "plt.xticks([1, 2], ['Box 1', 'Box 2'])\n",
    "plt.ylabel('Values')\n",
    "\n",
    "# Add title\n",
    "plt.title('Box Plot of Box1 and Box2')\n",
    "\n",
    "# Show plot\n",
    "plt.show()"
   ]
  }
 ],
 "metadata": {
  "kernelspec": {
   "display_name": "Python 3 (ipykernel)",
   "language": "python",
   "name": "python3"
  },
  "language_info": {
   "codemirror_mode": {
    "name": "ipython",
    "version": 3
   },
   "file_extension": ".py",
   "mimetype": "text/x-python",
   "name": "python",
   "nbconvert_exporter": "python",
   "pygments_lexer": "ipython3",
   "version": "3.10.8"
  }
 },
 "nbformat": 4,
 "nbformat_minor": 5
}
